{
 "cells": [
  {
   "cell_type": "code",
   "execution_count": 1,
   "metadata": {},
   "outputs": [],
   "source": [
    "import numpy as np \n",
    "from astropy.io import fits \n",
    "from smooth_kevin import smoother\n",
    "import py_specrebin\n",
    "import matplotlib.pyplot as plt \n",
    "from matplotlib import rc\n",
    "path_name = '.'\n",
    "\n",
    "# assuming we have arrays called (of the same size):\n",
    "# wave,flux,flux_err\n",
    "# and a new wavelength that we want to interpolate onto, called new_wave\n",
    "# new_flux,new_ivar = py_specrebin.rebinspec(wave,flux,new_wave,ivar=np.power(flux_err,-2))\n",
    "# new_flux_err = 1/np.sqrt(new_ivar)\n",
    "\n",
    "# import py_specrebin\n",
    "# assuming we have arrays called (of the same size):\n",
    "# wave,flux\n",
    "# and a new wavelength that we want to interpolate onto, called new_wave\n",
    "# new_flux = py_specrebin.rebinspec(wave,flux,new_wave)"
   ]
  },
  {
   "cell_type": "code",
   "execution_count": 2,
   "metadata": {},
   "outputs": [],
   "source": [
    "def make_plot(file_name, sigma, plot_name):\n",
    "    #read in star data\n",
    "    h_star = fits.open(path_name + '/' + file_name)\n",
    "    data_star1 = h_star[1].data\n",
    "    star_flux1 = data_star1['SKYSPEC'][0]\n",
    "    star_wave1 = data_star1['LAMBDA'][0]\n",
    "    star_ivar1 = data_star1['IVAR'][0]\n",
    "    data_star2 = h_star[2].data\n",
    "    star_flux2 = data_star2['SKYSPEC'][0]\n",
    "    star_wave2 = data_star2['LAMBDA'][0]\n",
    "    star_ivar2 = data_star2['IVAR'][0]\n",
    "    \n",
    "    #combine the blue and red side into one list\n",
    "    star_flux = np.array(list(star_flux1) + list(star_flux2))\n",
    "    star_wave = np.array(list(star_wave1) + list(star_wave2))\n",
    "    star_ivar = np.array(list(star_ivar1) + list(star_ivar2))\n",
    "    \n",
    "    #smooth spectrum\n",
    "    smooth_star = smoother(star_wave, star_flux, star_ivar, sigma=sigma)\n",
    "    \n",
    "    #normalize spectrum\n",
    "    med_cont = np.nanmedian(smooth_star)\n",
    "    smooth_star /= med_cont\n",
    "    \n",
    "    #remove telluric features at 7600 and 6900\n",
    "    remove_telluric1 = (star_wave < 6830) \n",
    "    remove_telluric2 = (star_wave > 7700) \n",
    "    remove_telluric3 = ((star_wave > 6950) & (star_wave < 7580))\n",
    "    \n",
    "    #plot the data\n",
    "    plt.plot(star_wave[remove_telluric1], smooth_star[remove_telluric1], c='b')\n",
    "    plt.plot(star_wave[remove_telluric2], smooth_star[remove_telluric2], c='b')\n",
    "    plt.plot(star_wave[remove_telluric3], smooth_star[remove_telluric3], c='b')\n",
    "    plt.savefig(plot_name, bbox_inches='tight', dpi=200)\n",
    "    plt.close()"
   ]
  },
  {
   "cell_type": "code",
   "execution_count": 3,
   "metadata": {},
   "outputs": [],
   "source": [
    "def lambda_a_minus_lambda_b(spectra_1):\n",
    "    #find the difference between wavelength a and wavelength b \n",
    "    lamb_a_lamb_b = spectra_1[0] - spectra_1[1]\n",
    "    \n",
    "    #plot the differences as a histogram\n",
    "    plt.figure()\n",
    "    plt.title(\"Lambda (B) - Lambda (A)\")\n",
    "    plt.xlabel(\"Wavelength Difference\")\n",
    "    plt.ylabel(\"Frequency\")\n",
    "    plt.hist(lamb_a_lamb_b,bins = 100)"
   ]
  },
  {
   "cell_type": "code",
   "execution_count": 4,
   "metadata": {},
   "outputs": [],
   "source": [
    "def dif_between_lambda(spectra_2):\n",
    "    list_of_dif = []\n",
    "    #create a for loop to produce to subtract the wavelength from each other\n",
    "    for i in range(len(spectra_2)-1):\n",
    "        difference = spectra_2[i+1] - spectra_2[i]\n",
    "        list_of_dif.append(difference)\n",
    "    \n",
    "    #plot the wavelength differences as a histogram \n",
    "    plt.figure()\n",
    "    plt.title(\"Lambda(i+1) - Lambda(i)\")\n",
    "    plt.xlabel(\"Wavelength Difference\")\n",
    "    plt.ylabel(\"Frequency\")\n",
    "    plt.hist(list_of_dif,bins=30)"
   ]
  },
  {
   "cell_type": "code",
   "execution_count": 5,
   "metadata": {},
   "outputs": [],
   "source": [
    "#array from 4000 to 10000 spaced by 0.25\n",
    "new_wave_array = np.array(np.linspace(4000,10000,24000))"
   ]
  },
  {
   "cell_type": "code",
   "execution_count": 6,
   "metadata": {},
   "outputs": [],
   "source": [
    "def make_ladder_plot(file_name, rung, sigma, plot_name):\n",
    "    color=['black','dimgray','gray','darkgray','silver','black']\n",
    "    i = 0\n",
    "    list_of_star_wave1 = []\n",
    "    list_of_star_wave2 = []\n",
    "    list_of_star_flux1 = []\n",
    "    list_of_star_ivar1 = []\n",
    "    for j in range(len(file_name)):\n",
    "        #read in star data\n",
    "        h_star = fits.open(path_name + '/' + file_name[j])\n",
    "        data_star1 = h_star[1].data\n",
    "        star_flux1 = data_star1['SKYSPEC'][0]\n",
    "        star_wave1 = data_star1['LAMBDA'][0]\n",
    "        star_ivar1 = data_star1['IVAR'][0]\n",
    "        data_star2 = h_star[2].data\n",
    "        star_flux2 = data_star2['SKYSPEC'][0]\n",
    "        star_wave2 = data_star2['LAMBDA'][0]\n",
    "        star_ivar2 = data_star2['IVAR'][0]\n",
    "        \n",
    "        #add star_wave1 into a list\n",
    "        list_of_star_wave1.append(star_wave1)\n",
    "        list_of_star_flux1.append(star_flux1)\n",
    "        list_of_star_ivar1.append(star_ivar1)\n",
    "        \n",
    "        #add star_wave2 into a list\n",
    "        list_of_star_wave2.append(star_wave2)\n",
    "        \n",
    "        #combine the blue and red side into one list\n",
    "        star_flux = np.array(list(star_flux1) + list(star_flux2))\n",
    "        star_wave = np.array(list(star_wave1) + list(star_wave2))\n",
    "        star_ivar = np.array(list(star_ivar1) + list(star_ivar2))\n",
    "        \n",
    "        #smooth spectrum\n",
    "        smooth_star = smoother(star_wave, star_flux, star_ivar, sigma=sigma[j])\n",
    "        \n",
    "        #normalize spectrum\n",
    "        med_cont = np.nanmedian(smooth_star)\n",
    "        smooth_star /= med_cont\n",
    "        smooth_star += i*rung\n",
    "        i += 1\n",
    "        \n",
    "        #remove telluric features at 7600 and 6900\n",
    "        remove_telluric1 = (star_wave < 6830) \n",
    "        remove_telluric2 = (star_wave > 7700) \n",
    "        remove_telluric3 = ((star_wave > 6950) & (star_wave < 7580))\n",
    "    \n",
    "        #plot the data\n",
    "        plt.plot(star_wave[remove_telluric1], smooth_star[remove_telluric1],c=color[j])\n",
    "        plt.plot(star_wave[remove_telluric2], smooth_star[remove_telluric2],c=color[j])\n",
    "        plt.plot(star_wave[remove_telluric3], smooth_star[remove_telluric3],c=color[j]) \n",
    "    plt.savefig(plot_name, bbox_inches='tight', dpi=200)\n",
    "    plt.close()\n",
    "    \n",
    "    #return the list_of_star_wave1 so we can use it\n",
    "    return list_of_star_wave1, list_of_star_wave2, list_of_star_flux1, list_of_star_ivar1"
   ]
  },
  {
   "cell_type": "code",
   "execution_count": 7,
   "metadata": {
    "collapsed": false,
    "jupyter": {
     "outputs_hidden": false
    }
   },
   "outputs": [],
   "source": [
    "def format_plot():#h_features, h_positions, v_features, v_positions):\n",
    "    #style stuff\n",
    "    rc('font', family = 'serif')\n",
    "    fig, ax=plt.subplots(1, figsize=(16,8))\n",
    "    for axis in ['top','bottom','left','right']:\n",
    "            ax.spines[axis].set_linewidth(1)\n",
    "    ax.tick_params(axis='x',which='both',bottom='on',top='on', direction='out')\n",
    "    ax.tick_params(axis='x',which='both',top='on', direction='in')\n",
    "    ax.tick_params(axis='y',which='both',left='on',top='off', direction='out')\n",
    "    ax.tick_params(axis='y',which='both',right='on', direction='in')\n",
    "    plt.tick_params(which='both', width=1)\n",
    "    plt.tick_params(which='major', length=7)\n",
    "    plt.tick_params(which='minor', length=4)\n",
    "    plt.tick_params(labelsize=19) \n",
    "    plt.minorticks_on()\n",
    "    \n",
    "    #mark spectral lines\n",
    "    plt.plot([6563,6563],[-50,50],c='red',label=r\"H$\\alpha$ 6563$\\rm\\AA$\")\n",
    "    plt.plot([5876,5876],[-50,50],c='purple',label=r\"He I 5876$\\rm\\AA$\")\n",
    "    plt.plot([6678,6678],[-50,50],c='purple',label=r\"He I 6678$\\rm\\AA$\")\n",
    "    plt.plot([7065,7065],[-50,50],c='purple',label=r\"He I 7065$\\rm\\AA$\")\n",
    "    plt.legend(loc=0, fontsize=10)\n",
    "    \n",
    "    #axes\n",
    "    plt.xlim(4500, 9600)\n",
    "    #plt.xlim(6400, 6700)\n",
    "    plt.ylim(0,7)\n",
    "    #plt.ylim(4.5,5.5)\n",
    "    plt.xlabel(r'$\\rm Wavelength\\ [\\AA]$', fontsize=19)\n",
    "    plt.ylabel(r'$\\rm Relative\\ Flux\\ [electrons\\ hr^{-1}]$', fontsize=19)\n",
    "    \n",
    "    #annotations\n",
    "#     for i in range(len(h_features)):\n",
    "#         ax.annotate(h_features[i], xy=(h_positions[i][0], h_positions[i][1]), fontsize=19, ha='center')\n",
    "#     for i in range(len(v_features)):\n",
    "#         ax.annotate(v_features[i], xy=(v_positions[i][0], v_positions[i][1]), fontsize=19, ha='center', rotation=90)"
   ]
  },
  {
   "cell_type": "code",
   "execution_count": 8,
   "metadata": {
    "collapsed": false,
    "jupyter": {
     "outputs_hidden": false
    }
   },
   "outputs": [],
   "source": [
    "#make plots!\n",
    "#the first list here should contain the names of features;\n",
    "#the second list should have the xy coordinates of where you want the label to go\n",
    "#APID 1018 -- example\n",
    "#format_plot(['CN', 'Telluric'], [[8000, 370], [9500, 200]], ['Telluric', 'Telluric'], [[6880, 410], [7650, 1000]]) \n",
    "format_plot() \n",
    "#make_plot('spec1d.C1M33P.161.MS_301405.fits.gz', 0.2, 'MS_301405_smooth_spec.png')\n",
    "#file_names = ['spec1d.C1M33P.101.MS_180497.fits.gz','spec1d.C1M33P.160.MS_287502.fits.gz','spec1d.C1M33P.164.MS_323338.fits.gz','spec1d.C2M33P.104.MS_180458.fits.gz','spec1d.E2M33P.085.MS_2328.fits.gz','comp_spec1d.fits.gz']\n",
    "file_names = ['spec1d.C1M33P.101.MS_180497.fits.gz','spec1d.C1M33P.160.MS_287502.fits.gz','spec1d.C1M33P.164.MS_323338.fits.gz','spec1d.C2M33P.104.MS_180458.fits.gz','spec1d.E2M33P.085.MS_2328.fits.gz','spec1d.E2M33P.034.CFHT258885.fits.gz']\n",
    "#file_names = ['spec1d.C1M33P.000.KG268.fits.gz','spec1d.C1M33P.161.MS_301405.fits.gz']\n",
    "smooth_array = [1, 1, 0.5, 0.5, 0.5, 1]\n",
    "\n",
    "#call_1 now contain a list of all star_wave1\n",
    "#call_2 now contain a list of all star_wave2\n",
    "#call_3 now contain a list of all star_flux1\n",
    "#call_4 now contain a list of all star_ivar1\n",
    "call_1,call_2,call_3,call_4 = make_ladder_plot(file_names, 0.9, smooth_array, 'testing_image.png')"
   ]
  },
  {
   "cell_type": "code",
   "execution_count": 9,
   "metadata": {},
   "outputs": [
    {
     "data": {
      "image/png": "[encoded data removed]",
      "text/plain": [
       "<Figure size 432x288 with 1 Axes>"
      ]
     },
     "metadata": {
      "needs_background": "light"
     },
     "output_type": "display_data"
    },
    {
     "data": {
      "image/png": "[encoded data removed]",
      "text/plain": [
       "<Figure size 432x288 with 1 Axes>"
      ]
     },
     "metadata": {
      "needs_background": "light"
     },
     "output_type": "display_data"
    }
   ],
   "source": [
    "#call the function and provide the spectra to find lambda(A) - lambda (B) for star_wave1\n",
    "lambda_a_minus_lambda_b(call_1)\n",
    "#call the function and provide the spectra to find lambda(A) - lambda (B) for star_wave2\n",
    "lambda_a_minus_lambda_b(call_2)"
   ]
  },
  {
   "cell_type": "code",
   "execution_count": 10,
   "metadata": {},
   "outputs": [
    {
     "data": {
      "image/png": "[encoded data removed]",
      "text/plain": [
       "<Figure size 432x288 with 1 Axes>"
      ]
     },
     "metadata": {
      "needs_background": "light"
     },
     "output_type": "display_data"
    },
    {
     "data": {
      "image/png": "[encoded data removed]",
      "text/plain": [
       "<Figure size 432x288 with 1 Axes>"
      ]
     },
     "metadata": {
      "needs_background": "light"
     },
     "output_type": "display_data"
    }
   ],
   "source": [
    "#call the function and provide the spectra to find lambda(i+1) - lambda(i) for star_wave1\n",
    "dif_between_lambda(call_1[0])\n",
    "#call the function and provide the spectra to find lambda(i+1) - lambda(i) for star_wave2\n",
    "dif_between_lambda(call_2[0])"
   ]
  },
  {
   "cell_type": "code",
   "execution_count": 13,
   "metadata": {},
   "outputs": [],
   "source": [
    "#rebinning function \n",
    "def rebinning(wave,flux,new_wave):\n",
    "    import py_specrebin\n",
    "    #assuming we have arrays called (of the same size):\n",
    "    #wave,flux\n",
    "    #and a new wavelength that we want to interpolate onto, called new_wave\n",
    "    new_flux = py_specrebin.rebinspec(wave,flux,new_wave)\n",
    "    print(new_flux)"
   ]
  },
  {
   "cell_type": "code",
   "execution_count": 14,
   "metadata": {},
   "outputs": [
    {
     "name": "stdout",
     "output_type": "stream",
     "text": [
      "[nan nan nan ... nan nan nan]\n"
     ]
    }
   ],
   "source": [
    "#call the rebinning function and provide the necessary arguments \n",
    "rebinning(call_1[0],call_3[0],new_wave_array)"
   ]
  },
  {
   "cell_type": "code",
   "execution_count": null,
   "metadata": {},
   "outputs": [],
   "source": [
    "def rebinning(wave,flux,new_wave,ivar):\n",
    "    import py_specrebin\n",
    "    #assuming we have arrays called (of the same size):\n",
    "    #wave,flux\n",
    "    #and a new wavelength that we want to interpolate onto, called new_wave\n",
    "    new_flux,new_ivar = py_specrebin.rebinspec(wave,flux,new_wave,ivar)\n",
    "    new_flux_err = 1/np.sqrt(new_ivar)"
   ]
  },
  {
   "cell_type": "code",
   "execution_count": null,
   "metadata": {},
   "outputs": [],
   "source": [
    "#call the rebinning function and provide the necessary arguments \n",
    "rebinning(call_1[0],call_3[0],new_wave_array,call_4[0])"
   ]
  }
 ],
 "metadata": {
  "kernelspec": {
   "display_name": "Python 3",
   "language": "python",
   "name": "python3"
  },
  "language_info": {
   "codemirror_mode": {
    "name": "ipython",
    "version": 3
   },
   "file_extension": ".py",
   "mimetype": "text/x-python",
   "name": "python",
   "nbconvert_exporter": "python",
   "pygments_lexer": "ipython3",
   "version": "3.7.6"
  }
 },
 "nbformat": 4,
 "nbformat_minor": 4
}
